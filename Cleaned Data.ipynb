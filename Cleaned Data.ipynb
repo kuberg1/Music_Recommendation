{
 "cells": [
  {
   "cell_type": "code",
   "execution_count": 1,
   "metadata": {},
   "outputs": [],
   "source": [
    "import pandas as pd\n",
    "import numpy as np\n",
    "import lightgbm as lgb"
   ]
  },
  {
   "cell_type": "code",
   "execution_count": 2,
   "metadata": {},
   "outputs": [],
   "source": [
    "#User-Defined Functions\n",
    "#Finding NAN values in a dataframe\n",
    "def find_nan(df):\n",
    "    nan_list = []\n",
    "    ls = df.isna().any()\n",
    "    ls = ls.to_dict()\n",
    "    for a in ls:\n",
    "        if ls[a] is True:\n",
    "            nan_list.append(a)\n",
    "    return nan_list\n",
    "#Filling Mean Values in Dataframe\n",
    "def fill_mean(df,nanval):\n",
    "    diffs = []\n",
    "    means = []\n",
    "    for column in nanval:\n",
    "        diffs = df[column].unique().tolist()\n",
    "        diffs = [x for x in diffs if str(x) != 'nan']\n",
    "        maxnum = df[column].value_counts()[diffs[0]]\n",
    "        maxval = diffs[0]\n",
    "        for val in diffs:\n",
    "            if maxnum < df[column].value_counts()[val]:\n",
    "                maxnum = df[column].value_counts()[val]\n",
    "                maxval = val\n",
    "        df[column].fillna(maxval,inplace=True)\n",
    "        means.append(maxval)\n",
    "    \n",
    "    return df , means"
   ]
  },
  {
   "cell_type": "code",
   "execution_count": null,
   "metadata": {},
   "outputs": [],
   "source": [
    "#Reading Train.csv\n",
    "df_train = pd.read_csv('kkbox-music-recommendation-challenge/train.csv',index_col=False)"
   ]
  },
  {
   "cell_type": "code",
   "execution_count": null,
   "metadata": {},
   "outputs": [],
   "source": [
    "#Reading Members.csv(User Personal Info)\n",
    "df_members = pd.read_csv('kkbox-music-recommendation-challenge/members.csv',index_col=False)"
   ]
  },
  {
   "cell_type": "code",
   "execution_count": null,
   "metadata": {},
   "outputs": [],
   "source": [
    "#Reading Songs.csv(Song Details)\n",
    "df_songs = pd.read_csv('kkbox-music-recommendation-challenge/songs.csv',index_col=False)"
   ]
  },
  {
   "cell_type": "code",
   "execution_count": null,
   "metadata": {},
   "outputs": [],
   "source": [
    "#Reading Songs_extra_info.csv (Extra Details about Songs)\n",
    "df_extra = pd.read_csv('kkbox-music-recommendation-challenge/song_extra_info.csv',index_col=False)"
   ]
  },
  {
   "cell_type": "code",
   "execution_count": null,
   "metadata": {},
   "outputs": [],
   "source": [
    "#Reading Test.csv\n",
    "df_test = pd.read_csv('kkbox-music-recommendation-challenge/test.csv',index_col=False)"
   ]
  },
  {
   "cell_type": "code",
   "execution_count": null,
   "metadata": {},
   "outputs": [],
   "source": [
    "#Finding NAN values in train and replacing them with mean\n",
    "nan_train = find_nan(df_train)\n",
    "df_train , train_na = fill_mean(df_train,nan_train)\n",
    "#Same mean values have been set in test.csv\n",
    "df_test['source_system_tab'].fillna(train_na[0],inplace=True)\n",
    "df_test['source_screen_name'].fillna(train_na[1],inplace=True)\n",
    "df_test['source_type'].fillna(train_na[2],inplace=True)"
   ]
  },
  {
   "cell_type": "code",
   "execution_count": null,
   "metadata": {},
   "outputs": [],
   "source": [
    "#Merging of Training Data with Songs Data\n",
    "train_song_mer = df_train.merge(df_songs,on='song_id',how='left')\n",
    "#Merging of Testing Data with Songs Data\n",
    "test_song_mer = df_test.merge(df_songs,on='song_id',how='left')"
   ]
  },
  {
   "cell_type": "code",
   "execution_count": null,
   "metadata": {},
   "outputs": [],
   "source": [
    "#Merging of Training Data with Members Data\n",
    "tr_so_mm_mer = train_song_mer.merge(df_members,on='msno',how='left')\n",
    "#Merging of Testing Data with Members Data\n",
    "te_so_mm_mer = test_song_mer.merge(df_members,on='msno',how='left')"
   ]
  },
  {
   "cell_type": "code",
   "execution_count": null,
   "metadata": {},
   "outputs": [],
   "source": [
    "#Merging of Training Data with Songs Extra Info \n",
    "train_final = tr_so_mm_mer.merge(df_extra,on='song_id',how='left')\n",
    "#Merging of Testing Data with Songs Extra Info\n",
    "test_final = te_so_mm_mer.merge(df_extra,on='song_id',how='left')"
   ]
  },
  {
   "cell_type": "code",
   "execution_count": null,
   "metadata": {},
   "outputs": [],
   "source": [
    "#Filling NAN values with Unknown \n",
    "train_final['composer'].fillna('unknown_comp',inplace=True)\n",
    "train_final['lyricist'].fillna('unknown_lyrc',inplace=True)\n",
    "train_final['artist_name'].fillna('unknown_art',inplace=True)\n",
    "train_final['name'].fillna('unknown_name',inplace=True)\n",
    "train_final['isrc'].fillna('unknown_isrc',inplace=True)\n",
    "train_final['genre_ids'].fillna('465',inplace=True)\n",
    "test_final['composer'].fillna('unknown_comp',inplace=True)\n",
    "test_final['lyricist'].fillna('unknown_lyrc',inplace=True)\n",
    "test_final['artist_name'].fillna('unknown_art',inplace=True)\n",
    "test_final['name'].fillna('unknown_name',inplace=True)\n",
    "test_final['isrc'].fillna('unknown_isrc',inplace=True)\n",
    "test_final['genre_ids'].fillna('465',inplace=True)"
   ]
  },
  {
   "cell_type": "code",
   "execution_count": null,
   "metadata": {},
   "outputs": [],
   "source": [
    "#Filling NAN in song_length with mean of average song length\n",
    "son_len = train_final['song_length'].tolist()\n",
    "son_len = [x for x in son_len if str(x) != 'nan']\n",
    "avg_son = int(sum(son_len)/len(son_len))\n",
    "train_final['song_length'].fillna(avg_son,inplace=True)\n",
    "test_final['song_length'].fillna(avg_son,inplace=True)"
   ]
  },
  {
   "cell_type": "code",
   "execution_count": null,
   "metadata": {},
   "outputs": [],
   "source": [
    "#Filling Remaining NAN values with Mean\n",
    "final_nan = find_nan(train_final)\n",
    "test_nan = find_nan(test_final)\n",
    "train_final, train_na = fill_mean(train_final,final_nan)\n",
    "test_final['language'].fillna(train_na[0],inplace=True)\n",
    "test_final['gender'].fillna(train_na[1],inplace=True)"
   ]
  },
  {
   "cell_type": "code",
   "execution_count": null,
   "metadata": {},
   "outputs": [],
   "source": [
    "#Setting Data Types of columns\n",
    "obj_col= train_final.columns.tolist()\n",
    "for col in obj_col:\n",
    "    if train_final[col].dtype == 'object':\n",
    "        train_final[col] = train_final[col].astype('category')\n",
    "obj_col= test_final.columns.tolist()\n",
    "for col in obj_col:\n",
    "    if test_final[col].dtype == 'object':\n",
    "        test_final[col] = test_final[col].astype('category')\n",
    "        "
   ]
  },
  {
   "cell_type": "code",
   "execution_count": null,
   "metadata": {},
   "outputs": [],
   "source": [
    "#One hot encoding of genre_ids\n",
    "train_final = pd.concat([train_final, pd.get_dummies(train_final['genre_ids'], drop_first = True)], axis = 1)\n",
    "train_final.drop('genre_ids', axis = 1, inplace = True)"
   ]
  },
  {
   "cell_type": "code",
   "execution_count": null,
   "metadata": {},
   "outputs": [],
   "source": [
    "end_columns = train_final.columns.tolist()\n",
    "gen_end = []\n",
    "for col in end_columns:\n",
    "    if train_final[col].dtype == 'uint8':\n",
    "        gen_end.append(col)\n",
    "diff_gens_train = []\n",
    "for col in gen_end:\n",
    "    val = [x.strip() for x in col.split(\"|\")]\n",
    "    for v in val:\n",
    "        diff_gens_train.append(v)\n",
    "        diff_gens_train = list(set(diff_gens_train))\n",
    "train_end = train_final\n",
    "done_gens = []\n",
    "for col in gen_end:\n",
    "    if col in diff_gens_train:\n",
    "        pass\n",
    "    else:\n",
    "        gen_split = [x.strip() for x in col.split(\"|\")]\n",
    "        for gen in gen_split:\n",
    "            if gen in gen_end:\n",
    "                train_end[gen] = train_end[col]+train_end[gen]\n",
    "                print(gen)\n",
    "            else:\n",
    "                train_end[gen] = train_end[col]\n",
    "                print(gen)\n",
    "        del train_end[col]"
   ]
  },
  {
   "cell_type": "code",
   "execution_count": null,
   "metadata": {},
   "outputs": [],
   "source": [
    "test_back = test_final\n",
    "test_final = pd.concat([test_final, pd.get_dummies(test_final['genre_ids'], drop_first = True)], axis = 1)\n",
    "test_final.drop('genre_ids', axis = 1, inplace = True)\n",
    "end_columns = test_final.columns.tolist()\n",
    "print(len(end_columns))\n",
    "gen_test = []\n",
    "for col in end_columns:\n",
    "    if test_final[col].dtype == 'uint8':\n",
    "        gen_test.append(col)\n",
    "        print(col)"
   ]
  },
  {
   "cell_type": "code",
   "execution_count": null,
   "metadata": {},
   "outputs": [],
   "source": [
    "diff_gens_test = []\n",
    "for col in gen_test:\n",
    "    val = [x.strip() for x in col.split(\"|\")]\n",
    "    for v in val:\n",
    "        diff_gens_test.append(v)\n",
    "        diff_gens_test = list(set(diff_gens_test))"
   ]
  },
  {
   "cell_type": "code",
   "execution_count": null,
   "metadata": {},
   "outputs": [],
   "source": [
    "end_columns = test_final.columns.tolist()\n",
    "for col in gen_test:\n",
    "    if col in diff_gens_test:\n",
    "        pass\n",
    "    else:\n",
    "        val = [x.strip() for x in col.split(\"|\")]\n",
    "        for v in val:\n",
    "            if v in end_columns:\n",
    "                test_final[v] = test_final[col]+test_final[v]\n",
    "                print(v)\n",
    "            else:\n",
    "                test_final[v] = test_final[col]\n",
    "                print(v)\n",
    "        del test_final[col]"
   ]
  },
  {
   "cell_type": "code",
   "execution_count": null,
   "metadata": {},
   "outputs": [],
   "source": [
    "tr_co = train_end.columns.tolist()\n",
    "te_co = test_final.columns.tolist()\n",
    "left = []\n",
    "for col in tr_co:\n",
    "    if col in te_co:\n",
    "        pass\n",
    "    else:\n",
    "        left.append(col)\n",
    "        print(col)\n",
    "right = []\n",
    "for col in te_co:\n",
    "    if col in tr_co:\n",
    "        pass\n",
    "    else:\n",
    "        right.append(col)\n",
    "        print(col)\n",
    "for col in left:\n",
    "    if col!='target':\n",
    "        test_final[col] = 0\n",
    "        test_final[col] = test_final[col].astype('uint8')\n",
    "for col in right:\n",
    "    if col!='id':\n",
    "        train_end[col] = 0\n",
    "        train_end[col] = train_end[col].astype('uint8')"
   ]
  },
  {
   "cell_type": "code",
   "execution_count": null,
   "metadata": {},
   "outputs": [],
   "source": [
    "#Finding genres with less than 10 entries in data and deleting them\n",
    "train_column = train_end.columns.tolist()\n",
    "test_column = test_final.columns.tolist()\n",
    "gens = []\n",
    "for col in train_column:\n",
    "    if train_end[col].dtype == 'uint8':\n",
    "        gens.append(col)\n",
    "for col in test_column:\n",
    "    if test_final[col].dtype == 'uint8':\n",
    "        gens.append(col)\n",
    "\n",
    "gen_count = {}\n",
    "for col in gens:\n",
    "    temp = int(sum(train_end[col]))+int(sum(test_final[col]))\n",
    "    gen_count[col] = temp\n",
    "    \n",
    "mini = gen_count[\"465\"]\n",
    "maxi = gen_count[\"465\"]\n",
    "avg = 0\n",
    "count = 0\n",
    "for col in gen_count:\n",
    "    if gen_count[col]<mini:\n",
    "        mini = gen_count[col]\n",
    "    if gen_count[col]>maxi:\n",
    "        maxi = gen_count[col]\n",
    "    avg = avg + gen_count[col]\n",
    "    count+=1\n",
    "avg = int(avg/count)\n",
    "print(maxi)\n",
    "print(mini)\n",
    "print(avg)\n",
    "\n",
    "avg_big = 0\n",
    "for col in gen_count:\n",
    "    if gen_count[col]<avg:\n",
    "        avg_big+=1\n",
    "print(avg_big)\n",
    "print(count)\n",
    "\n",
    "navg = 0\n",
    "ncount = 0\n",
    "for col in gen_count:\n",
    "    if gen_count[col]<avg:\n",
    "        navg = navg + gen_count[col]\n",
    "        ncount+=1\n",
    "navg = int(navg/ncount)\n",
    "print(navg)\n",
    "\n",
    "s_100 = 0\n",
    "for col in gen_count:\n",
    "    if gen_count[col]<10:\n",
    "        s_100+=1\n",
    "print(s_100)\n",
    "print(count)"
   ]
  },
  {
   "cell_type": "code",
   "execution_count": null,
   "metadata": {},
   "outputs": [],
   "source": [
    "for col in gen_count:\n",
    "    if gen_count[col]<10:\n",
    "        del train_end[col]\n",
    "        del test_final[col]\n",
    "        print(col)"
   ]
  },
  {
   "cell_type": "code",
   "execution_count": null,
   "metadata": {},
   "outputs": [],
   "source": [
    "#Setting X-Train and Y-Train\n",
    "X_train = train_end.drop(['target'], axis=1)\n",
    "y_train = train_end['target'].values\n",
    "\n",
    "\n",
    "X_test = test_final.drop(['id'], axis=1)\n",
    "ids = test_final['id'].values\n",
    "\n",
    "d_train_final = lgb.Dataset(X_train, y_train)\n",
    "watchlist_final = lgb.Dataset(X_train, y_train)"
   ]
  },
  {
   "cell_type": "code",
   "execution_count": null,
   "metadata": {},
   "outputs": [],
   "source": [
    "params = {\n",
    "        'objective': 'binary',\n",
    "        'metric': 'binary_logloss',\n",
    "        'boosting': 'gbdt',\n",
    "        'learning_rate': 0.3 ,\n",
    "        'verbose': 0,\n",
    "        'num_leaves': 108,\n",
    "        'bagging_fraction': 0.95,\n",
    "        'bagging_freq': 1,\n",
    "        'bagging_seed': 1,\n",
    "        'feature_fraction': 0.9,\n",
    "        'feature_fraction_seed': 1,\n",
    "        'max_bin': 256,\n",
    "        'max_depth': 10,\n",
    "        'num_rounds': 200,\n",
    "        'metric' : 'auc'\n",
    "    }\n",
    "\n",
    "%time model_f1 = lgb.train(params, train_set=d_train_final,  valid_sets=watchlist_final, verbose_eval=5)"
   ]
  },
  {
   "cell_type": "code",
   "execution_count": null,
   "metadata": {},
   "outputs": [],
   "source": [
    "params = {\n",
    "        'objective': 'binary',\n",
    "        'metric': 'binary_logloss',\n",
    "        'boosting': 'dart',\n",
    "        'learning_rate': 0.3 ,\n",
    "        'verbose': 0,\n",
    "        'num_leaves': 108,\n",
    "        'bagging_fraction': 0.95,\n",
    "        'bagging_freq': 1,\n",
    "        'bagging_seed': 1,\n",
    "        'feature_fraction': 0.9,\n",
    "        'feature_fraction_seed': 1,\n",
    "        'max_bin': 256,\n",
    "        'max_depth': 10,\n",
    "        'num_rounds': 200,\n",
    "        'metric' : 'auc'\n",
    "    }\n",
    "\n",
    "%time model_f2 = lgb.train(params, train_set=d_train_final,  valid_sets=watchlist_final, verbose_eval=5)"
   ]
  },
  {
   "cell_type": "code",
   "execution_count": null,
   "metadata": {},
   "outputs": [],
   "source": [
    "#Making Predictions and\n",
    "\n",
    "p_test_1 = model_f1.predict(X_test)\n",
    "p_test_2 = model_f2.predict(X_test)\n",
    "p_test_avg = np.mean([p_test_1, p_test_2], axis = 0)\n"
   ]
  },
  {
   "cell_type": "code",
   "execution_count": null,
   "metadata": {},
   "outputs": [],
   "source": [
    "#Creating Submission Files\n",
    "subm = pd.DataFrame()\n",
    "subm['id'] = ids\n",
    "subm['target'] = p_test_avg\n",
    "subm.to_csv(data_path + 'submission_lgbm_avg.csv.gz', compression = 'gzip', index=False, float_format = '%.5f')"
   ]
  }
 ],
 "metadata": {
  "kernelspec": {
   "display_name": "Python 3",
   "language": "python",
   "name": "python3"
  },
  "language_info": {
   "codemirror_mode": {
    "name": "ipython",
    "version": 3
   },
   "file_extension": ".py",
   "mimetype": "text/x-python",
   "name": "python",
   "nbconvert_exporter": "python",
   "pygments_lexer": "ipython3",
   "version": "3.6.5"
  }
 },
 "nbformat": 4,
 "nbformat_minor": 2
}
